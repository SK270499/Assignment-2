{
 "cells": [
  {
   "cell_type": "code",
   "execution_count": 1,
   "id": "ce03a5df-0dd9-499d-a3e1-5f44a98daa39",
   "metadata": {},
   "outputs": [],
   "source": [
    "# Q1)  Write a Python function that takes a list of numbers as input and returns the sum of all even numbers in the list.\n",
    "\n",
    "def sum_of_evens(a):\n",
    "    return sum(i for i in a if i % 2 ==0)"
   ]
  },
  {
   "cell_type": "code",
   "execution_count": 2,
   "id": "11038266-fd12-4b00-aeb0-c8b9f0a7e93c",
   "metadata": {},
   "outputs": [
    {
     "data": {
      "text/plain": [
       "72"
      ]
     },
     "execution_count": 2,
     "metadata": {},
     "output_type": "execute_result"
    }
   ],
   "source": [
    "a = [1, 2, 4, 55, 66]\n",
    "sum_of_evens(a)"
   ]
  },
  {
   "cell_type": "code",
   "execution_count": 4,
   "id": "08e92d07-181c-4874-8781-be360ed0536d",
   "metadata": {},
   "outputs": [
    {
     "data": {
      "text/plain": [
       "'irhsahbuS'"
      ]
     },
     "execution_count": 4,
     "metadata": {},
     "output_type": "execute_result"
    }
   ],
   "source": [
    "# Q2)  Create a Python function that accepts a string and returns the reverse of that string.\n",
    "\n",
    "def reverse(a):\n",
    "    return a[::-1]\n",
    "\n",
    "reverse(\"Subhashri\")"
   ]
  },
  {
   "cell_type": "code",
   "execution_count": 5,
   "id": "f4ea1311-e8ab-4f06-817c-b8c4bcb3303b",
   "metadata": {},
   "outputs": [
    {
     "data": {
      "text/plain": [
       "[1, 4, 9, 16, 25]"
      ]
     },
     "execution_count": 5,
     "metadata": {},
     "output_type": "execute_result"
    }
   ],
   "source": [
    "# Q3) . Implement a Python function that takes a list of integers and returns a new list containing the squares of each number.\n",
    "\n",
    "def square(a):\n",
    "    return [i**2 for i in a]\n",
    "\n",
    "a= [1, 2, 3, 4, 5]\n",
    "square(a)"
   ]
  },
  {
   "cell_type": "code",
   "execution_count": 6,
   "id": "2e4e4eab-6009-4852-8cae-582e5ae69aaf",
   "metadata": {},
   "outputs": [
    {
     "name": "stdout",
     "output_type": "stream",
     "text": [
      "[(5, 2), (4, 3), (2, 6), (3, 9)]\n"
     ]
    }
   ],
   "source": [
    "# Q8) . Use a lambda function in Python to sort a list of tuples based on the second element of each tuple\n",
    "\n",
    "data= [(2,6), (4,3), (3,9), (5,2)]\n",
    "\n",
    "a= sorted(data, key=lambda x: x[1])\n",
    "print(a)"
   ]
  },
  {
   "cell_type": "code",
   "execution_count": 7,
   "id": "e1d83b26-d8de-47b4-8dd5-439e48c2c00f",
   "metadata": {},
   "outputs": [
    {
     "name": "stdout",
     "output_type": "stream",
     "text": [
      "The conversion of Temperatures from Celcius to Fahrenheit is [32.0, 86.0, 104.0, 212.0]\n"
     ]
    }
   ],
   "source": [
    "# Q9)Write a Python program that uses `map()` to convert a list of temperatures from Celsius to Fahrenheit\n",
    "\n",
    "def cel_to_fah(C):\n",
    "    return (C* 9/5) +32\n",
    "\n",
    "cel_temp_data= [0, 30, 40, 100]\n",
    "fah_temp_data= list(map(cel_to_fah, cel_temp_data)) \n",
    "\n",
    "print (\"The conversion of Temperatures from Celcius to Fahrenheit is\", fah_temp_data)"
   ]
  },
  {
   "cell_type": "code",
   "execution_count": 8,
   "id": "feb59773-c30e-4e4b-847b-1196e0b6a733",
   "metadata": {},
   "outputs": [
    {
     "name": "stdout",
     "output_type": "stream",
     "text": [
      "String without vowels: H ,   t h s   s   S b h s h r\n"
     ]
    }
   ],
   "source": [
    "# Q10) Create a Python program that uses `filter()` to remove all the vowels from a given string\n",
    "\n",
    "input_str = \"Hi, this is Subhashri\"\n",
    "vowels = \"aeiou\"\n",
    "no_vowels = ' ' .join(filter(lambda x: x not in vowels, input_str))\n",
    "\n",
    "print(\"String without vowels:\", no_vowels)"
   ]
  },
  {
   "cell_type": "code",
   "execution_count": null,
   "id": "94096647-a778-44e8-9331-3ef45fba7b32",
   "metadata": {},
   "outputs": [],
   "source": []
  }
 ],
 "metadata": {
  "kernelspec": {
   "display_name": "Python 3 (ipykernel)",
   "language": "python",
   "name": "python3"
  },
  "language_info": {
   "codemirror_mode": {
    "name": "ipython",
    "version": 3
   },
   "file_extension": ".py",
   "mimetype": "text/x-python",
   "name": "python",
   "nbconvert_exporter": "python",
   "pygments_lexer": "ipython3",
   "version": "3.13.2"
  }
 },
 "nbformat": 4,
 "nbformat_minor": 5
}
